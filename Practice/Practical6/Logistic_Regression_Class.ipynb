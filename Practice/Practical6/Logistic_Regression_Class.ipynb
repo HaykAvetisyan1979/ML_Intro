{
 "cells": [
  {
   "cell_type": "code",
   "execution_count": 1,
   "metadata": {},
   "outputs": [],
   "source": [
    "import pandas as pd\n",
    "import numpy as np\n",
    "import matplotlib.pyplot as plt"
   ]
  },
  {
   "cell_type": "markdown",
   "metadata": {},
   "source": [
    "## Load the dataset \n",
    "load diabetes_data"
   ]
  },
  {
   "cell_type": "code",
   "execution_count": 2,
   "metadata": {},
   "outputs": [
    {
     "data": {
      "text/html": [
       "<div>\n",
       "<style scoped>\n",
       "    .dataframe tbody tr th:only-of-type {\n",
       "        vertical-align: middle;\n",
       "    }\n",
       "\n",
       "    .dataframe tbody tr th {\n",
       "        vertical-align: top;\n",
       "    }\n",
       "\n",
       "    .dataframe thead th {\n",
       "        text-align: right;\n",
       "    }\n",
       "</style>\n",
       "<table border=\"1\" class=\"dataframe\">\n",
       "  <thead>\n",
       "    <tr style=\"text-align: right;\">\n",
       "      <th></th>\n",
       "      <th>Pregnancies</th>\n",
       "      <th>Glucose</th>\n",
       "      <th>BloodPressure</th>\n",
       "      <th>SkinThickness</th>\n",
       "      <th>Insulin</th>\n",
       "      <th>BMI</th>\n",
       "      <th>DiabetesPedigreeFunction</th>\n",
       "      <th>Age</th>\n",
       "      <th>Outcome</th>\n",
       "    </tr>\n",
       "  </thead>\n",
       "  <tbody>\n",
       "    <tr>\n",
       "      <td>0</td>\n",
       "      <td>6</td>\n",
       "      <td>148</td>\n",
       "      <td>72</td>\n",
       "      <td>35</td>\n",
       "      <td>0</td>\n",
       "      <td>33.6</td>\n",
       "      <td>0.627</td>\n",
       "      <td>50</td>\n",
       "      <td>1</td>\n",
       "    </tr>\n",
       "    <tr>\n",
       "      <td>1</td>\n",
       "      <td>1</td>\n",
       "      <td>85</td>\n",
       "      <td>66</td>\n",
       "      <td>29</td>\n",
       "      <td>0</td>\n",
       "      <td>26.6</td>\n",
       "      <td>0.351</td>\n",
       "      <td>31</td>\n",
       "      <td>0</td>\n",
       "    </tr>\n",
       "    <tr>\n",
       "      <td>2</td>\n",
       "      <td>8</td>\n",
       "      <td>183</td>\n",
       "      <td>64</td>\n",
       "      <td>0</td>\n",
       "      <td>0</td>\n",
       "      <td>23.3</td>\n",
       "      <td>0.672</td>\n",
       "      <td>32</td>\n",
       "      <td>1</td>\n",
       "    </tr>\n",
       "    <tr>\n",
       "      <td>3</td>\n",
       "      <td>1</td>\n",
       "      <td>89</td>\n",
       "      <td>66</td>\n",
       "      <td>23</td>\n",
       "      <td>94</td>\n",
       "      <td>28.1</td>\n",
       "      <td>0.167</td>\n",
       "      <td>21</td>\n",
       "      <td>0</td>\n",
       "    </tr>\n",
       "    <tr>\n",
       "      <td>4</td>\n",
       "      <td>0</td>\n",
       "      <td>137</td>\n",
       "      <td>40</td>\n",
       "      <td>35</td>\n",
       "      <td>168</td>\n",
       "      <td>43.1</td>\n",
       "      <td>2.288</td>\n",
       "      <td>33</td>\n",
       "      <td>1</td>\n",
       "    </tr>\n",
       "    <tr>\n",
       "      <td>5</td>\n",
       "      <td>5</td>\n",
       "      <td>116</td>\n",
       "      <td>74</td>\n",
       "      <td>0</td>\n",
       "      <td>0</td>\n",
       "      <td>25.6</td>\n",
       "      <td>0.201</td>\n",
       "      <td>30</td>\n",
       "      <td>0</td>\n",
       "    </tr>\n",
       "    <tr>\n",
       "      <td>6</td>\n",
       "      <td>3</td>\n",
       "      <td>78</td>\n",
       "      <td>50</td>\n",
       "      <td>32</td>\n",
       "      <td>88</td>\n",
       "      <td>31.0</td>\n",
       "      <td>0.248</td>\n",
       "      <td>26</td>\n",
       "      <td>1</td>\n",
       "    </tr>\n",
       "    <tr>\n",
       "      <td>7</td>\n",
       "      <td>10</td>\n",
       "      <td>115</td>\n",
       "      <td>0</td>\n",
       "      <td>0</td>\n",
       "      <td>0</td>\n",
       "      <td>35.3</td>\n",
       "      <td>0.134</td>\n",
       "      <td>29</td>\n",
       "      <td>0</td>\n",
       "    </tr>\n",
       "    <tr>\n",
       "      <td>8</td>\n",
       "      <td>2</td>\n",
       "      <td>197</td>\n",
       "      <td>70</td>\n",
       "      <td>45</td>\n",
       "      <td>543</td>\n",
       "      <td>30.5</td>\n",
       "      <td>0.158</td>\n",
       "      <td>53</td>\n",
       "      <td>1</td>\n",
       "    </tr>\n",
       "    <tr>\n",
       "      <td>9</td>\n",
       "      <td>8</td>\n",
       "      <td>125</td>\n",
       "      <td>96</td>\n",
       "      <td>0</td>\n",
       "      <td>0</td>\n",
       "      <td>0.0</td>\n",
       "      <td>0.232</td>\n",
       "      <td>54</td>\n",
       "      <td>1</td>\n",
       "    </tr>\n",
       "    <tr>\n",
       "      <td>10</td>\n",
       "      <td>4</td>\n",
       "      <td>110</td>\n",
       "      <td>92</td>\n",
       "      <td>0</td>\n",
       "      <td>0</td>\n",
       "      <td>37.6</td>\n",
       "      <td>0.191</td>\n",
       "      <td>30</td>\n",
       "      <td>0</td>\n",
       "    </tr>\n",
       "    <tr>\n",
       "      <td>11</td>\n",
       "      <td>10</td>\n",
       "      <td>168</td>\n",
       "      <td>74</td>\n",
       "      <td>0</td>\n",
       "      <td>0</td>\n",
       "      <td>38.0</td>\n",
       "      <td>0.537</td>\n",
       "      <td>34</td>\n",
       "      <td>1</td>\n",
       "    </tr>\n",
       "    <tr>\n",
       "      <td>12</td>\n",
       "      <td>10</td>\n",
       "      <td>139</td>\n",
       "      <td>80</td>\n",
       "      <td>0</td>\n",
       "      <td>0</td>\n",
       "      <td>27.1</td>\n",
       "      <td>1.441</td>\n",
       "      <td>57</td>\n",
       "      <td>0</td>\n",
       "    </tr>\n",
       "    <tr>\n",
       "      <td>13</td>\n",
       "      <td>1</td>\n",
       "      <td>189</td>\n",
       "      <td>60</td>\n",
       "      <td>23</td>\n",
       "      <td>846</td>\n",
       "      <td>30.1</td>\n",
       "      <td>0.398</td>\n",
       "      <td>59</td>\n",
       "      <td>1</td>\n",
       "    </tr>\n",
       "    <tr>\n",
       "      <td>14</td>\n",
       "      <td>5</td>\n",
       "      <td>166</td>\n",
       "      <td>72</td>\n",
       "      <td>19</td>\n",
       "      <td>175</td>\n",
       "      <td>25.8</td>\n",
       "      <td>0.587</td>\n",
       "      <td>51</td>\n",
       "      <td>1</td>\n",
       "    </tr>\n",
       "    <tr>\n",
       "      <td>15</td>\n",
       "      <td>7</td>\n",
       "      <td>100</td>\n",
       "      <td>0</td>\n",
       "      <td>0</td>\n",
       "      <td>0</td>\n",
       "      <td>30.0</td>\n",
       "      <td>0.484</td>\n",
       "      <td>32</td>\n",
       "      <td>1</td>\n",
       "    </tr>\n",
       "    <tr>\n",
       "      <td>16</td>\n",
       "      <td>0</td>\n",
       "      <td>118</td>\n",
       "      <td>84</td>\n",
       "      <td>47</td>\n",
       "      <td>230</td>\n",
       "      <td>45.8</td>\n",
       "      <td>0.551</td>\n",
       "      <td>31</td>\n",
       "      <td>1</td>\n",
       "    </tr>\n",
       "    <tr>\n",
       "      <td>17</td>\n",
       "      <td>7</td>\n",
       "      <td>107</td>\n",
       "      <td>74</td>\n",
       "      <td>0</td>\n",
       "      <td>0</td>\n",
       "      <td>29.6</td>\n",
       "      <td>0.254</td>\n",
       "      <td>31</td>\n",
       "      <td>1</td>\n",
       "    </tr>\n",
       "    <tr>\n",
       "      <td>18</td>\n",
       "      <td>1</td>\n",
       "      <td>103</td>\n",
       "      <td>30</td>\n",
       "      <td>38</td>\n",
       "      <td>83</td>\n",
       "      <td>43.3</td>\n",
       "      <td>0.183</td>\n",
       "      <td>33</td>\n",
       "      <td>0</td>\n",
       "    </tr>\n",
       "    <tr>\n",
       "      <td>19</td>\n",
       "      <td>1</td>\n",
       "      <td>115</td>\n",
       "      <td>70</td>\n",
       "      <td>30</td>\n",
       "      <td>96</td>\n",
       "      <td>34.6</td>\n",
       "      <td>0.529</td>\n",
       "      <td>32</td>\n",
       "      <td>1</td>\n",
       "    </tr>\n",
       "  </tbody>\n",
       "</table>\n",
       "</div>"
      ],
      "text/plain": [
       "    Pregnancies  Glucose  BloodPressure  SkinThickness  Insulin   BMI  \\\n",
       "0             6      148             72             35        0  33.6   \n",
       "1             1       85             66             29        0  26.6   \n",
       "2             8      183             64              0        0  23.3   \n",
       "3             1       89             66             23       94  28.1   \n",
       "4             0      137             40             35      168  43.1   \n",
       "5             5      116             74              0        0  25.6   \n",
       "6             3       78             50             32       88  31.0   \n",
       "7            10      115              0              0        0  35.3   \n",
       "8             2      197             70             45      543  30.5   \n",
       "9             8      125             96              0        0   0.0   \n",
       "10            4      110             92              0        0  37.6   \n",
       "11           10      168             74              0        0  38.0   \n",
       "12           10      139             80              0        0  27.1   \n",
       "13            1      189             60             23      846  30.1   \n",
       "14            5      166             72             19      175  25.8   \n",
       "15            7      100              0              0        0  30.0   \n",
       "16            0      118             84             47      230  45.8   \n",
       "17            7      107             74              0        0  29.6   \n",
       "18            1      103             30             38       83  43.3   \n",
       "19            1      115             70             30       96  34.6   \n",
       "\n",
       "    DiabetesPedigreeFunction  Age  Outcome  \n",
       "0                      0.627   50        1  \n",
       "1                      0.351   31        0  \n",
       "2                      0.672   32        1  \n",
       "3                      0.167   21        0  \n",
       "4                      2.288   33        1  \n",
       "5                      0.201   30        0  \n",
       "6                      0.248   26        1  \n",
       "7                      0.134   29        0  \n",
       "8                      0.158   53        1  \n",
       "9                      0.232   54        1  \n",
       "10                     0.191   30        0  \n",
       "11                     0.537   34        1  \n",
       "12                     1.441   57        0  \n",
       "13                     0.398   59        1  \n",
       "14                     0.587   51        1  \n",
       "15                     0.484   32        1  \n",
       "16                     0.551   31        1  \n",
       "17                     0.254   31        1  \n",
       "18                     0.183   33        0  \n",
       "19                     0.529   32        1  "
      ]
     },
     "execution_count": 2,
     "metadata": {},
     "output_type": "execute_result"
    }
   ],
   "source": [
    "df = pd.read_csv('diabetes_data.csv')\n",
    "df.head(20)"
   ]
  },
  {
   "cell_type": "code",
   "execution_count": 3,
   "metadata": {},
   "outputs": [
    {
     "data": {
      "text/plain": [
       "768"
      ]
     },
     "execution_count": 3,
     "metadata": {},
     "output_type": "execute_result"
    }
   ],
   "source": [
    "len(df)"
   ]
  },
  {
   "cell_type": "markdown",
   "metadata": {},
   "source": [
    "## Divide the dataset into train and test datasets"
   ]
  },
  {
   "cell_type": "code",
   "execution_count": 84,
   "metadata": {},
   "outputs": [],
   "source": [
    "from sklearn.model_selection import train_test_split\n",
    "xTrain, xTest, yTrain, yTest = train_test_split(df[df.columns.difference(['Outcome','Pregnancies'])], df[['Outcome']], test_size=0.2, random_state=42)"
   ]
  },
  {
   "cell_type": "code",
   "execution_count": 85,
   "metadata": {},
   "outputs": [],
   "source": [
    "from sklearn.model_selection import train_test_split\n",
    "xTrain, xTest, yTrain, yTest = train_test_split(df[['Age','BloodPressure']], df[['Outcome']], test_size=0.2, random_state=42)"
   ]
  },
  {
   "cell_type": "code",
   "execution_count": 86,
   "metadata": {},
   "outputs": [],
   "source": [
    "from sklearn.model_selection import train_test_split\n",
    "xTrain, xTest, yTrain, yTest = train_test_split(df[['Age','BloodPressure','Glucose']], df[['Outcome']], test_size=0.2, random_state=42)"
   ]
  },
  {
   "cell_type": "code",
   "execution_count": 108,
   "metadata": {
    "scrolled": true
   },
   "outputs": [
    {
     "data": {
      "text/html": [
       "<div>\n",
       "<style scoped>\n",
       "    .dataframe tbody tr th:only-of-type {\n",
       "        vertical-align: middle;\n",
       "    }\n",
       "\n",
       "    .dataframe tbody tr th {\n",
       "        vertical-align: top;\n",
       "    }\n",
       "\n",
       "    .dataframe thead th {\n",
       "        text-align: right;\n",
       "    }\n",
       "</style>\n",
       "<table border=\"1\" class=\"dataframe\">\n",
       "  <thead>\n",
       "    <tr style=\"text-align: right;\">\n",
       "      <th></th>\n",
       "      <th>Age</th>\n",
       "      <th>BloodPressure</th>\n",
       "      <th>Glucose</th>\n",
       "    </tr>\n",
       "  </thead>\n",
       "  <tbody>\n",
       "    <tr>\n",
       "      <td>60</td>\n",
       "      <td>21</td>\n",
       "      <td>0</td>\n",
       "      <td>84</td>\n",
       "    </tr>\n",
       "    <tr>\n",
       "      <td>618</td>\n",
       "      <td>50</td>\n",
       "      <td>82</td>\n",
       "      <td>112</td>\n",
       "    </tr>\n",
       "    <tr>\n",
       "      <td>346</td>\n",
       "      <td>22</td>\n",
       "      <td>46</td>\n",
       "      <td>139</td>\n",
       "    </tr>\n",
       "    <tr>\n",
       "      <td>294</td>\n",
       "      <td>65</td>\n",
       "      <td>50</td>\n",
       "      <td>161</td>\n",
       "    </tr>\n",
       "    <tr>\n",
       "      <td>231</td>\n",
       "      <td>46</td>\n",
       "      <td>80</td>\n",
       "      <td>134</td>\n",
       "    </tr>\n",
       "    <tr>\n",
       "      <td>...</td>\n",
       "      <td>...</td>\n",
       "      <td>...</td>\n",
       "      <td>...</td>\n",
       "    </tr>\n",
       "    <tr>\n",
       "      <td>71</td>\n",
       "      <td>26</td>\n",
       "      <td>64</td>\n",
       "      <td>139</td>\n",
       "    </tr>\n",
       "    <tr>\n",
       "      <td>106</td>\n",
       "      <td>27</td>\n",
       "      <td>122</td>\n",
       "      <td>96</td>\n",
       "    </tr>\n",
       "    <tr>\n",
       "      <td>270</td>\n",
       "      <td>38</td>\n",
       "      <td>86</td>\n",
       "      <td>101</td>\n",
       "    </tr>\n",
       "    <tr>\n",
       "      <td>435</td>\n",
       "      <td>29</td>\n",
       "      <td>0</td>\n",
       "      <td>141</td>\n",
       "    </tr>\n",
       "    <tr>\n",
       "      <td>102</td>\n",
       "      <td>21</td>\n",
       "      <td>96</td>\n",
       "      <td>125</td>\n",
       "    </tr>\n",
       "  </tbody>\n",
       "</table>\n",
       "<p>614 rows × 3 columns</p>\n",
       "</div>"
      ],
      "text/plain": [
       "     Age  BloodPressure  Glucose\n",
       "60    21              0       84\n",
       "618   50             82      112\n",
       "346   22             46      139\n",
       "294   65             50      161\n",
       "231   46             80      134\n",
       "..   ...            ...      ...\n",
       "71    26             64      139\n",
       "106   27            122       96\n",
       "270   38             86      101\n",
       "435   29              0      141\n",
       "102   21             96      125\n",
       "\n",
       "[614 rows x 3 columns]"
      ]
     },
     "execution_count": 108,
     "metadata": {},
     "output_type": "execute_result"
    }
   ],
   "source": [
    "xTrain"
   ]
  },
  {
   "cell_type": "code",
   "execution_count": 109,
   "metadata": {},
   "outputs": [
    {
     "data": {
      "text/plain": [
       "array([[-1.03594038, -3.75268255, -1.15139792],\n",
       "       [ 1.48710085,  0.68034485, -0.27664283],\n",
       "       [-0.94893896, -1.2658623 ,  0.56687102],\n",
       "       ...,\n",
       "       [ 0.44308379,  0.89659009, -0.62029661],\n",
       "       [-0.33992901, -3.75268255,  0.62935353],\n",
       "       [-1.03594038,  1.43720319,  0.12949347]])"
      ]
     },
     "execution_count": 109,
     "metadata": {},
     "output_type": "execute_result"
    }
   ],
   "source": [
    "from sklearn.preprocessing import StandardScaler\n",
    "ss = StandardScaler()\n",
    "ss.fit(xTrain)\n",
    "xTransf_trn = ss.transform(xTrain)\n",
    "xTransf_tst = ss.transform(xTest)\n",
    "xTransf_trn"
   ]
  },
  {
   "cell_type": "code",
   "execution_count": 110,
   "metadata": {},
   "outputs": [],
   "source": [
    "yTrain = np.array(yTrain)\n",
    "yTest = np.array(yTest)"
   ]
  },
  {
   "cell_type": "markdown",
   "metadata": {},
   "source": [
    "## Implement the following functions to create your own logistic regression algorithm from scratch.\n",
    "#### Feel free to use more additinal functions in your implementation."
   ]
  },
  {
   "cell_type": "code",
   "execution_count": 194,
   "metadata": {},
   "outputs": [],
   "source": [
    "class LogReg(object):\n",
    "    def __init__(self, epsilon=1e-6, step_size=1e-4, max_steps=1000):\n",
    "        self.epsilon=epsilon\n",
    "        self.step_size=step_size\n",
    "        self.max_steps=max_steps\n",
    "        self.beta = np.array([])\n",
    "    \n",
    "   \n",
    "    def logistic_func(self, beta, X):\n",
    "        \"\"\"\n",
    "        :param X: data matrix (2 dimensional np.array)\n",
    "        :param beta: value of beta (1 dimensional np.array)\n",
    "\n",
    "        \"\"\"\n",
    "        if X[:,0].prod()!=1:    # դրսից, object-ի վրայից կետով մեթոդը կանչելու դեպքի համար, ներսից կանչելիս արդեն կա 1-երի սյունը պետք չի ավելացնի կրկնակի է լինում\n",
    "            X = (np.hstack([np.ones([len(X),1]),X])).copy()\n",
    "        \n",
    "        return (1/(1+np.e**(-X.dot(beta))))    \n",
    "    \n",
    "    def gradient(self, beta, X, Y):\n",
    "        \"\"\"\n",
    "        :param X: data matrix (2 dimensional np.array)\n",
    "        :param Y: response variables (1 dimensional np.array)\n",
    "        :param beta: value of beta (1 dimensional np.array)\n",
    "        :return: np.array i.e. gradient according to the data\n",
    "\n",
    "        \"\"\"\n",
    "        \n",
    "        if X[:,0].prod()!=1:    # դրսից մեթոդը կանչելու դեպքի համար, ներսից կանչելիս արդեն կա 1-երի սյունը պետք չի ավելացնի կրկնակի է լինում\n",
    "            X = (np.hstack([np.ones([len(X),1]),X])).copy()\n",
    "        \n",
    "        return ((np.subtract(self.logistic_func(beta, X),Y)).T.dot(X)).reshape(-1,1)\n",
    "    \n",
    "    def cost_func(self, X, Y, beta):\n",
    "        \"\"\"\n",
    "        :param X: data matrix (2 dimensional np.array)\n",
    "        :param Y: response variables (1 dimensional np.array)\n",
    "        :param beta: value of beta (1 dimensional np.array)\n",
    "        :return: numberic value of the cost function\n",
    "\n",
    "        \"\"\"\n",
    "        if X[:,0].prod()!=1:    # դրսից մեթոդը կանչելու դեպքի համար, ներսից կանչելիս արդեն կա 1-երի սյունը պետք չի ավելացնի կրկնակի է լինում\n",
    "            X = (np.hstack([np.ones([len(X),1]),X])).copy()\n",
    "        \n",
    "        return (1/len(Y))*(-Y.T.dot(np.log(self.logistic_func(beta,X)))-\n",
    "                           (1-Y).T.dot(np.log(1-self.logistic_func(beta,X))))\n",
    "    \n",
    "    \n",
    "    def fit(self,X,Y):   # gradient_descent\n",
    "        \n",
    "        X = (np.hstack([np.ones([len(X),1]),X])).copy()\n",
    "        \n",
    "        b0=np.ones(X.shape[1]).reshape(-1,1)\n",
    "        b0=b0*0.5\n",
    "        b0[0]=-1\n",
    "\n",
    "        beta = b0\n",
    "\n",
    "        cost = 1000\n",
    "\n",
    "        for i in range(self.max_steps):\n",
    "            costf = self.cost_func(X, Y, beta)\n",
    "            grad = self.gradient(beta, X, Y)\n",
    "\n",
    "            if cost - costf <= self.epsilon:\n",
    "                break\n",
    "\n",
    "            beta = np.add(beta, -self.step_size*grad)\n",
    "\n",
    "            cost = costf\n",
    "        \n",
    "        self.beta=beta.round(10)\n",
    "        \n",
    "    def predict(self, X):\n",
    "        return self.logistic_func(self.beta,X)\n",
    "        "
   ]
  },
  {
   "cell_type": "code",
   "execution_count": 195,
   "metadata": {},
   "outputs": [],
   "source": [
    "logreg = LogReg(epsilon=1e-6, step_size=1e-4, max_steps=1000)"
   ]
  },
  {
   "cell_type": "code",
   "execution_count": 196,
   "metadata": {},
   "outputs": [],
   "source": [
    "logreg.fit(xTransf_trn,yTrain)"
   ]
  },
  {
   "cell_type": "code",
   "execution_count": 198,
   "metadata": {},
   "outputs": [
    {
     "data": {
      "text/plain": [
       "array([[-0.7815481 ],\n",
       "       [ 0.41204829],\n",
       "       [-0.05501428],\n",
       "       [ 1.07525642]])"
      ]
     },
     "execution_count": 198,
     "metadata": {},
     "output_type": "execute_result"
    }
   ],
   "source": [
    "b=logreg.beta\n",
    "b"
   ]
  },
  {
   "cell_type": "code",
   "execution_count": 199,
   "metadata": {},
   "outputs": [
    {
     "data": {
      "text/plain": [
       "array([[0.23984373],\n",
       "       [0.17909703],\n",
       "       [0.16463593],\n",
       "       [0.22456212],\n",
       "       [0.5692378 ],\n",
       "       [0.35502411],\n",
       "       [0.05821614],\n",
       "       [0.42386365],\n",
       "       [0.61559791],\n",
       "       [0.77235898],\n",
       "       [0.29732433],\n",
       "       [0.88763725],\n",
       "       [0.50456241],\n",
       "       [0.21954712],\n",
       "       [0.09601706],\n",
       "       [0.31854175],\n",
       "       [0.09946356],\n",
       "       [0.09384948],\n",
       "       [0.83525976],\n",
       "       [0.39064463],\n",
       "       [0.30569474],\n",
       "       [0.11396895],\n",
       "       [0.29843989],\n",
       "       [0.1163725 ],\n",
       "       [0.42333368],\n",
       "       [0.83010633],\n",
       "       [0.20366404],\n",
       "       [0.15820167],\n",
       "       [0.13950363],\n",
       "       [0.15673855],\n",
       "       [0.57384635],\n",
       "       [0.77898905],\n",
       "       [0.77656122],\n",
       "       [0.70491263],\n",
       "       [0.37970401],\n",
       "       [0.56032475],\n",
       "       [0.94361655],\n",
       "       [0.25874747],\n",
       "       [0.559894  ],\n",
       "       [0.3817994 ],\n",
       "       [0.10640796],\n",
       "       [0.68619807],\n",
       "       [0.44394869],\n",
       "       [0.23633765],\n",
       "       [0.1198403 ],\n",
       "       [0.56727423],\n",
       "       [0.42740672],\n",
       "       [0.13359587],\n",
       "       [0.45334867],\n",
       "       [0.86343753],\n",
       "       [0.10934996],\n",
       "       [0.66698232],\n",
       "       [0.67342015],\n",
       "       [0.33250499],\n",
       "       [0.35966472],\n",
       "       [0.06259264],\n",
       "       [0.82394264],\n",
       "       [0.08798235],\n",
       "       [0.24350145],\n",
       "       [0.75182813],\n",
       "       [0.67696312],\n",
       "       [0.27756142],\n",
       "       [0.59918812],\n",
       "       [0.20897112],\n",
       "       [0.08224826],\n",
       "       [0.4331674 ],\n",
       "       [0.08503421],\n",
       "       [0.44837602],\n",
       "       [0.17092334],\n",
       "       [0.68240034],\n",
       "       [0.63032801],\n",
       "       [0.11271168],\n",
       "       [0.29303428],\n",
       "       [0.11755996],\n",
       "       [0.18075349],\n",
       "       [0.41444774],\n",
       "       [0.3519537 ],\n",
       "       [0.2045382 ],\n",
       "       [0.2155315 ],\n",
       "       [0.21122065],\n",
       "       [0.65041474],\n",
       "       [0.15152992],\n",
       "       [0.09091667],\n",
       "       [0.34816436],\n",
       "       [0.23452802],\n",
       "       [0.82484905],\n",
       "       [0.57939372],\n",
       "       [0.31520187],\n",
       "       [0.1733789 ],\n",
       "       [0.10263068],\n",
       "       [0.11102921],\n",
       "       [0.12759364],\n",
       "       [0.07309594],\n",
       "       [0.39621811],\n",
       "       [0.2904055 ],\n",
       "       [0.44586324],\n",
       "       [0.28847512],\n",
       "       [0.08632404],\n",
       "       [0.66943666],\n",
       "       [0.07627693],\n",
       "       [0.77610685],\n",
       "       [0.06278001],\n",
       "       [0.414845  ],\n",
       "       [0.4758885 ],\n",
       "       [0.59202349],\n",
       "       [0.2134504 ],\n",
       "       [0.40367108],\n",
       "       [0.70603874],\n",
       "       [0.08293213],\n",
       "       [0.29954789],\n",
       "       [0.12500093],\n",
       "       [0.64360059],\n",
       "       [0.19356396],\n",
       "       [0.73527974],\n",
       "       [0.20259406],\n",
       "       [0.25449953],\n",
       "       [0.58251161],\n",
       "       [0.21821408],\n",
       "       [0.10401355],\n",
       "       [0.28662162],\n",
       "       [0.15354501],\n",
       "       [0.14587597],\n",
       "       [0.26592222],\n",
       "       [0.11111027],\n",
       "       [0.46706917],\n",
       "       [0.40388143],\n",
       "       [0.29400731],\n",
       "       [0.72997262],\n",
       "       [0.53850729],\n",
       "       [0.82253534],\n",
       "       [0.78408498],\n",
       "       [0.60154934],\n",
       "       [0.17098788],\n",
       "       [0.50244914],\n",
       "       [0.69472899],\n",
       "       [0.18830067],\n",
       "       [0.2225954 ],\n",
       "       [0.67509087],\n",
       "       [0.71669371],\n",
       "       [0.05264116],\n",
       "       [0.1997011 ],\n",
       "       [0.11169911],\n",
       "       [0.41855861],\n",
       "       [0.35966472],\n",
       "       [0.12209653],\n",
       "       [0.14005769],\n",
       "       [0.11586745],\n",
       "       [0.05962378],\n",
       "       [0.28455661],\n",
       "       [0.77259457],\n",
       "       [0.07349823],\n",
       "       [0.31129575],\n",
       "       [0.48034114],\n",
       "       [0.10537889]])"
      ]
     },
     "execution_count": 199,
     "metadata": {},
     "output_type": "execute_result"
    }
   ],
   "source": [
    "logreg.logistic_func(b,xTransf_tst)"
   ]
  },
  {
   "cell_type": "code",
   "execution_count": 211,
   "metadata": {},
   "outputs": [
    {
     "data": {
      "text/plain": [
       "array([0, 0, 0, 0, 1, 0, 0, 0, 1, 1, 0, 1, 1, 0, 0, 0, 0, 0, 1, 0, 0, 0,\n",
       "       0, 0, 0, 1, 0, 0, 0, 0, 1, 1, 1, 1, 0, 1, 1, 0, 1, 0, 0, 1, 0, 0,\n",
       "       0, 1, 0, 0, 0, 1, 0, 1, 1, 0, 0, 0, 1, 0, 0, 1, 1, 0, 1, 0, 0, 0,\n",
       "       0, 0, 0, 1, 1, 0, 0, 0, 0, 0, 0, 0, 0, 0, 1, 0, 0, 0, 0, 1, 1, 0,\n",
       "       0, 0, 0, 0, 0, 0, 0, 0, 0, 0, 1, 0, 1, 0, 0, 0, 1, 0, 0, 1, 0, 0,\n",
       "       0, 1, 0, 1, 0, 0, 1, 0, 0, 0, 0, 0, 0, 0, 0, 0, 0, 1, 1, 1, 1, 1,\n",
       "       0, 1, 1, 0, 0, 1, 1, 0, 0, 0, 0, 0, 0, 0, 0, 0, 0, 1, 0, 0, 0, 0],\n",
       "      dtype=int64)"
      ]
     },
     "execution_count": 211,
     "metadata": {},
     "output_type": "execute_result"
    }
   ],
   "source": [
    "y_predp=logreg.predict(xTransf_tst)\n",
    "y_predp"
   ]
  },
  {
   "cell_type": "markdown",
   "metadata": {},
   "source": [
    "## Run logistic regression using the features of your choice and using \"Outcome\" as a target variable"
   ]
  },
  {
   "cell_type": "code",
   "execution_count": 207,
   "metadata": {},
   "outputs": [
    {
     "data": {
      "text/plain": [
       "array([[-0.78154865],\n",
       "       [ 0.41205905],\n",
       "       [-0.05478411],\n",
       "       [ 1.07491172]])"
      ]
     },
     "execution_count": 207,
     "metadata": {},
     "output_type": "execute_result"
    }
   ],
   "source": [
    "logreg = LogReg(epsilon=1e-8, step_size=1e-6, max_steps=100000)\n",
    "logreg.fit(xTransf_trn,yTrain)\n",
    "b=logreg.beta\n",
    "b"
   ]
  },
  {
   "cell_type": "markdown",
   "metadata": {},
   "source": [
    "## Use the logistic regression available in Sklearn on the same data."
   ]
  },
  {
   "cell_type": "code",
   "execution_count": 78,
   "metadata": {},
   "outputs": [],
   "source": [
    "from sklearn.model_selection import train_test_split\n",
    "xTrain, xTest, yTrain, yTest = train_test_split(df[['Age','BloodPressure','Glucose']], df[['Outcome']], test_size=0.2, random_state=42)"
   ]
  },
  {
   "cell_type": "code",
   "execution_count": 206,
   "metadata": {},
   "outputs": [],
   "source": [
    "from sklearn.preprocessing import StandardScaler\n",
    "ss = StandardScaler()\n",
    "ss.fit(xTrain)\n",
    "xTransf_trn = ss.transform(xTrain)\n",
    "xTransf_tst = ss.transform(xTest)"
   ]
  },
  {
   "cell_type": "code",
   "execution_count": 208,
   "metadata": {},
   "outputs": [
    {
     "name": "stderr",
     "output_type": "stream",
     "text": [
      "C:\\ProgramData\\Anaconda3\\lib\\site-packages\\sklearn\\linear_model\\logistic.py:432: FutureWarning: Default solver will be changed to 'lbfgs' in 0.22. Specify a solver to silence this warning.\n",
      "  FutureWarning)\n",
      "C:\\ProgramData\\Anaconda3\\lib\\site-packages\\sklearn\\utils\\validation.py:724: DataConversionWarning: A column-vector y was passed when a 1d array was expected. Please change the shape of y to (n_samples, ), for example using ravel().\n",
      "  y = column_or_1d(y, warn=True)\n"
     ]
    },
    {
     "data": {
      "text/plain": [
       "(array([-0.77813231]), array([[ 0.40894924, -0.06715711,  1.08999253]]))"
      ]
     },
     "execution_count": 208,
     "metadata": {},
     "output_type": "execute_result"
    }
   ],
   "source": [
    "from sklearn.linear_model import LogisticRegression\n",
    "logreg = LogisticRegression()\n",
    "logreg.fit(xTransf_trn, yTrain)\n",
    "y_pred = logreg.predict(xTransf_tst)\n",
    "logreg.intercept_, logreg.coef_"
   ]
  },
  {
   "cell_type": "code",
   "execution_count": 214,
   "metadata": {},
   "outputs": [
    {
     "data": {
      "text/plain": [
       "(13906, 23716, 0.5863552032383201)"
      ]
     },
     "execution_count": 214,
     "metadata": {},
     "output_type": "execute_result"
    }
   ],
   "source": [
    "d = [x==y for x in y_pred for y in y_predp]\n",
    "d.count(True), len(d), d.count(True)/len(d)"
   ]
  },
  {
   "cell_type": "code",
   "execution_count": 215,
   "metadata": {},
   "outputs": [
    {
     "data": {
      "text/plain": [
       "array([0, 0, 0, 0, 1, 0, 0, 0, 1, 1, 0, 1, 1, 0, 0, 0, 0, 0, 1, 0, 0, 0,\n",
       "       0, 0, 0, 1, 0, 0, 0, 0, 1, 1, 1, 1, 0, 1, 1, 0, 1, 0, 0, 1, 0, 0,\n",
       "       0, 1, 0, 0, 0, 1, 0, 1, 1, 0, 0, 0, 1, 0, 0, 1, 1, 0, 1, 0, 0, 0,\n",
       "       0, 0, 0, 1, 1, 0, 0, 0, 0, 0, 0, 0, 0, 0, 1, 0, 0, 0, 0, 1, 1, 0,\n",
       "       0, 0, 0, 0, 0, 0, 0, 0, 0, 0, 1, 0, 1, 0, 0, 0, 1, 0, 0, 1, 0, 0,\n",
       "       0, 1, 0, 1, 0, 0, 1, 0, 0, 0, 0, 0, 0, 0, 0, 0, 0, 1, 1, 1, 1, 1,\n",
       "       0, 1, 1, 0, 0, 1, 1, 0, 0, 0, 0, 0, 0, 0, 0, 0, 0, 1, 0, 0, 0, 0],\n",
       "      dtype=int64)"
      ]
     },
     "execution_count": 215,
     "metadata": {},
     "output_type": "execute_result"
    }
   ],
   "source": [
    "y_pred"
   ]
  },
  {
   "cell_type": "code",
   "execution_count": 216,
   "metadata": {},
   "outputs": [
    {
     "name": "stdout",
     "output_type": "stream",
     "text": [
      "[[86 13]\n",
      " [23 32]]\n"
     ]
    }
   ],
   "source": [
    "from sklearn import metrics\n",
    "\n",
    "cnf = metrics.confusion_matrix(yTest,y_pred)\n",
    "print(cnf)\n",
    "\n",
    "TN = cnf[0][0]\n",
    "FP = cnf[0][1]\n",
    "FN = cnf[1][0]\n",
    "TP = cnf[1][1]\n",
    "Total = TN+FP+FN+TP"
   ]
  },
  {
   "cell_type": "code",
   "execution_count": 217,
   "metadata": {},
   "outputs": [
    {
     "name": "stdout",
     "output_type": "stream",
     "text": [
      "Accuracy= 0.7662337662337663\n",
      "0.7662337662337663\n",
      "\n",
      "\n",
      "Recall= 0.5818181818181818\n",
      "0.5818181818181818\n",
      "\n",
      "\n",
      "Precision 0.7111111111111111\n",
      "0.7111111111111111\n"
     ]
    }
   ],
   "source": [
    "print(\"Accuracy=\", metrics.accuracy_score(yTest,y_pred))\n",
    "print((TP+TN)/Total)\n",
    "print('\\n')\n",
    "print(\"Recall=\", metrics.recall_score(yTest,y_pred))\n",
    "print((TP/(TP+FN)))\n",
    "print('\\n')\n",
    "print(\"Precision\", metrics.precision_score(yTest,y_pred))\n",
    "print((TP/(TP+FP)))"
   ]
  },
  {
   "cell_type": "code",
   "execution_count": 218,
   "metadata": {},
   "outputs": [
    {
     "data": {
      "text/plain": [
       "154"
      ]
     },
     "execution_count": 218,
     "metadata": {},
     "output_type": "execute_result"
    }
   ],
   "source": [
    "len(xTest)"
   ]
  },
  {
   "cell_type": "markdown",
   "metadata": {},
   "source": [
    "## Extra: try to plot the results of your algorithm i.e. a scatter plot of points classified into 2 classes in different colors."
   ]
  },
  {
   "cell_type": "code",
   "execution_count": 219,
   "metadata": {},
   "outputs": [
    {
     "data": {
      "text/plain": [
       "array([0, 0, 0, 0, 1, 0, 0, 0, 1, 1, 0, 1, 1, 0, 0, 0, 0, 0, 1, 0, 0, 0,\n",
       "       0, 0, 0, 1, 0, 0, 0, 0, 1, 1, 1, 1, 0, 1, 1, 0, 1, 0, 0, 1, 0, 0,\n",
       "       0, 1, 0, 0, 0, 1, 0, 1, 1, 0, 0, 0, 1, 0, 0, 1, 1, 0, 1, 0, 0, 0,\n",
       "       0, 0, 0, 1, 1, 0, 0, 0, 0, 0, 0, 0, 0, 0, 1, 0, 0, 0, 0, 1, 1, 0,\n",
       "       0, 0, 0, 0, 0, 0, 0, 0, 0, 0, 1, 0, 1, 0, 0, 0, 1, 0, 0, 1, 0, 0,\n",
       "       0, 1, 0, 1, 0, 0, 1, 0, 0, 0, 0, 0, 0, 0, 0, 0, 0, 1, 1, 1, 1, 1,\n",
       "       0, 1, 1, 0, 0, 1, 1, 0, 0, 0, 0, 0, 0, 0, 0, 0, 0, 1, 0, 0, 0, 0],\n",
       "      dtype=int64)"
      ]
     },
     "execution_count": 219,
     "metadata": {},
     "output_type": "execute_result"
    }
   ],
   "source": [
    "#y_pred_own1 = y_pred_own[y_pred_own[1]>0.5]\n",
    "#y_pred_own1\n",
    "y_predp"
   ]
  },
  {
   "cell_type": "code",
   "execution_count": 220,
   "metadata": {},
   "outputs": [
    {
     "data": {
      "text/plain": [
       "<matplotlib.collections.PathCollection at 0x1b9a6772548>"
      ]
     },
     "execution_count": 220,
     "metadata": {},
     "output_type": "execute_result"
    },
    {
     "data": {
      "image/png": "[encoded data removed]",
      "text/plain": [
       "<Figure size 432x288 with 1 Axes>"
      ]
     },
     "metadata": {
      "needs_background": "light"
     },
     "output_type": "display_data"
    }
   ],
   "source": [
    "plt.scatter(range(len(y_predp)),y_predp)"
   ]
  },
  {
   "cell_type": "code",
   "execution_count": 221,
   "metadata": {},
   "outputs": [
    {
     "data": {
      "text/plain": [
       "array([0, 0, 0, 0, 1, 0, 0, 0, 1, 1, 0, 1, 1, 0, 0, 0, 0, 0, 1, 0, 0, 0,\n",
       "       0, 0, 0, 1, 0, 0, 0, 0, 1, 1, 1, 1, 0, 1, 1, 0, 1, 0, 0, 1, 0, 0,\n",
       "       0, 1, 0, 0, 0, 1, 0, 1, 1, 0, 0, 0, 1, 0, 0, 1, 1, 0, 1, 0, 0, 0,\n",
       "       0, 0, 0, 1, 1, 0, 0, 0, 0, 0, 0, 0, 0, 0, 1, 0, 0, 0, 0, 1, 1, 0,\n",
       "       0, 0, 0, 0, 0, 0, 0, 0, 0, 0, 1, 0, 1, 0, 0, 0, 1, 0, 0, 1, 0, 0,\n",
       "       0, 1, 0, 1, 0, 0, 1, 0, 0, 0, 0, 0, 0, 0, 0, 0, 0, 1, 1, 1, 1, 1,\n",
       "       0, 1, 1, 0, 0, 1, 1, 0, 0, 0, 0, 0, 0, 0, 0, 0, 0, 1, 0, 0, 0, 0],\n",
       "      dtype=int64)"
      ]
     },
     "execution_count": 221,
     "metadata": {},
     "output_type": "execute_result"
    }
   ],
   "source": [
    "y_pred"
   ]
  },
  {
   "cell_type": "code",
   "execution_count": 222,
   "metadata": {},
   "outputs": [
    {
     "data": {
      "text/plain": [
       "<matplotlib.collections.PathCollection at 0x1b9a6990248>"
      ]
     },
     "execution_count": 222,
     "metadata": {},
     "output_type": "execute_result"
    },
    {
     "data": {
      "image/png": "[encoded data removed]",
      "text/plain": [
       "<Figure size 1080x1080 with 1 Axes>"
      ]
     },
     "metadata": {
      "needs_background": "light"
     },
     "output_type": "display_data"
    }
   ],
   "source": [
    "y_pred1 = [y for y in y_pred if y>0]\n",
    "y_pred2 = [y for y in y_pred if y==0]\n",
    "plt.figure(figsize=(15,15))\n",
    "plt.scatter(range(len(y_pred1)),y_pred1, c='r')\n",
    "plt.scatter(range(len(y_pred2)),y_pred2)"
   ]
  },
  {
   "cell_type": "code",
   "execution_count": 224,
   "metadata": {},
   "outputs": [
    {
     "data": {
      "text/plain": [
       "<matplotlib.collections.PathCollection at 0x1b9a6874388>"
      ]
     },
     "execution_count": 224,
     "metadata": {},
     "output_type": "execute_result"
    },
    {
     "data": {
      "image/png": "[encoded data removed]",
      "text/plain": [
       "<Figure size 1080x1080 with 1 Axes>"
      ]
     },
     "metadata": {
      "needs_background": "light"
     },
     "output_type": "display_data"
    }
   ],
   "source": [
    "y_pred1 = [y for y in y_predp if y>0.5]\n",
    "y_pred2 = [y for y in y_predp if y<0.5]\n",
    "plt.figure(figsize=(15,15))\n",
    "plt.scatter(range(len(y_pred1)),y_pred1, c='r')\n",
    "plt.scatter(range(len(y_pred2)),y_pred2, c= 'b')"
   ]
  }
 ],
 "metadata": {
  "kernelspec": {
   "display_name": "Python 3",
   "language": "python",
   "name": "python3"
  },
  "language_info": {
   "codemirror_mode": {
    "name": "ipython",
    "version": 3
   },
   "file_extension": ".py",
   "mimetype": "text/x-python",
   "name": "python",
   "nbconvert_exporter": "python",
   "pygments_lexer": "ipython3",
   "version": "3.7.4"
  }
 },
 "nbformat": 4,
 "nbformat_minor": 4
}
