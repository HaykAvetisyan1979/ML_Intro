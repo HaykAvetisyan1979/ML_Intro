{
 "cells": [
  {
   "cell_type": "code",
   "execution_count": 1,
   "metadata": {
    "collapsed": true
   },
   "outputs": [],
   "source": [
    "import numpy as np\n",
    "import pandas as pd\n",
    "import matplotlib.pyplot as plt"
   ]
  },
  {
   "cell_type": "markdown",
   "metadata": {},
   "source": [
    "## 0. Data processing and visualization\n",
    "Load abalone.csv dataset, perform exploratory analysis on the dataset. Clean the data NA-s and from uninformative columns if any."
   ]
  },
  {
   "cell_type": "code",
   "execution_count": null,
   "metadata": {
    "collapsed": true
   },
   "outputs": [],
   "source": []
  },
  {
   "cell_type": "markdown",
   "metadata": {},
   "source": [
    "## 1. Fitting SVM\n",
    "In this task we will try to predict the gender of an abalone snail. In the dataset we have three classes: \"M\" - male, \"F\"-female, \"I\" - infant.\n",
    "1. Change the target variable from categorical to numeric.\n",
    "2. Perform train/test split with ratio 85/15.\n",
    "3. Reduce the training set to 2 dimensions and make a scatter plot, by coloring the points according to target variable. What do you think can SVM with linear kernel get good results?\n",
    "4. Choose the best parameters for SVM and fit a model with that best params, report the accuracy and f1-score on the test set."
   ]
  },
  {
   "cell_type": "code",
   "execution_count": null,
   "metadata": {
    "collapsed": true
   },
   "outputs": [],
   "source": []
  },
  {
   "cell_type": "markdown",
   "metadata": {},
   "source": [
    "## 2. Fitting Logistic Regression\n",
    "Here again we will try to predict the same target variable as in the previous task. Use the same train and test sets as in the previous task.\n",
    "1. Choose the best parameters for logistic regression model and report the accuracy and f1-score on the test set.\n",
    "2. You know that logistic regression performs better on smaller number of dimensions. Try to reduce the number of dimensions in the dataset and again fit choose the best parameters for the logistic regression model and report the accuracy and f1-score on the test set.\n",
    "3. Write a short paragraph comparing the results you got in task 1 and task 2, what do you think why you got that results?"
   ]
  },
  {
   "cell_type": "code",
   "execution_count": null,
   "metadata": {
    "collapsed": true
   },
   "outputs": [],
   "source": []
  }
 ],
 "metadata": {
  "kernelspec": {
   "display_name": "Python 3",
   "language": "python",
   "name": "python3"
  },
  "language_info": {
   "codemirror_mode": {
    "name": "ipython",
    "version": 3
   },
   "file_extension": ".py",
   "mimetype": "text/x-python",
   "name": "python",
   "nbconvert_exporter": "python",
   "pygments_lexer": "ipython3",
   "version": "3.6.5"
  }
 },
 "nbformat": 4,
 "nbformat_minor": 2
}
